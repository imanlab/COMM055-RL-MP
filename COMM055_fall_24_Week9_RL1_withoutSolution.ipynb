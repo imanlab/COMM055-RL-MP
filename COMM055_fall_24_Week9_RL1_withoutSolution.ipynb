{
  "cells": [
    {
      "cell_type": "markdown",
      "source": [
        "# Week 9: Lab -- Reinforcement Learning: Dynamic Programming\n",
        "---\n",
        "Below the Policy iteration is explained step-by-step. Read it carefullybefore you complete 5 exercises.\n",
        "---"
      ],
      "metadata": {
        "id": "N71eNyJ-ycPS"
      }
    },
    {
      "cell_type": "markdown",
      "source": [
        "# Policy Iteration Step-by-Step\n",
        "\n",
        "### 1. Initialization\n",
        "\n",
        "**Purpose:** Start with arbitrary initializations for the value function and the policy.\n",
        "\n",
        "- **Value Function Initialization:**  \n",
        "  $V(s) \\in \\mathbb{R}$: Assign an initial value for all states $s$. These could be random, zeros, or heuristically determined.\n",
        "  \n",
        "- **Policy Initialization:**  \n",
        "  $\\pi(s) \\in A(s)$: Assign an initial policy, mapping each state $s$ to an action $a$ arbitrarily.\n",
        "\n",
        "This step ensures that we have a starting point for both the value function and the policy.\n",
        "\n",
        "---\n",
        "\n",
        "### 2. Policy Evaluation\n",
        "\n",
        "**Goal:** Evaluate how good the current policy $\\pi$ is by updating the value function $V(s)$.\n",
        "\n",
        "#### Loop Description:\n",
        "\n",
        "1. **Initialize** $\\Delta$:  \n",
        "   $\\Delta \\leftarrow 0$ (Tracks the maximum change in the value function during updates for convergence).\n",
        "\n",
        "2. **For each state** $s \\in {S}$:\n",
        "   - Store the current value $v$ of the state:  \n",
        "     $v \\leftarrow V(s)$\n",
        "   - Update the value function $V(s)$ based on the Bellman expectation equation for the current policy $\\pi$:  \n",
        "     $$V(s) \\leftarrow \\sum_{s', r} p(s', r \\mid s, \\pi(s)) \\big[ r + \\gamma V(s') \\big]$$\n",
        "     - $p(s', r \\mid s, \\pi(s))$: Transition probability of reaching $s'$ and receiving reward $r$ given state $s$ and action $\\pi(s)$.\n",
        "     - $r + \\gamma V(s')$: The immediate reward plus the discounted future value.\n",
        "   - Update the maximum difference $\\Delta$:  $$\n",
        "\n",
        "3. **Repeat** until $\\Delta < \\theta$, where $\\theta$ is a small positive number indicating convergence.\n",
        "\n",
        "At the end of this step, $V(s)$ reflects the value of each state under the current policy $\\pi$.\n",
        "\n",
        "---\n",
        "\n",
        "### 3. Policy Improvement\n",
        "\n",
        "**Goal:** Use the updated value function $V(s)$ to improve the policy $\\pi$.\n",
        "\n",
        "#### Steps:\n",
        "\n",
        "1. **Assume the policy is stable:**  \n",
        "   `policy-stable ← true`\n",
        "\n",
        "2. **For each state** $s \\in {S}$:\n",
        "   - Store the current action:  \n",
        "     `old-action ← π(s)`\n",
        "   - Update the policy by choosing the action that maximizes the expected return:  \n",
        "     \\[\n",
        "     \\pi(s) \\leftarrow \\arg\\max_{a} \\sum_{s', r} p(s', r \\mid s, a) \\big[ r + \\gamma V(s') \\big]\n",
        "     \\]  \n",
        "     This step essentially finds the best action for state $s$ based on the updated value function $V(s)$.\n",
        "   - **If** the policy changes (i.e., `old-action ≠ π(s)`), mark the policy as unstable:  \n",
        "     `policy-stable ← false`\n",
        "\n",
        "3. **If the policy is stable** (i.e., no changes were made), terminate the algorithm and return:\n",
        "   - The optimal value function: $V \\approx V^*$\n",
        "   - The optimal policy: $\\pi \\approx \\pi^*$\n",
        "   - Otherwise, go back to **Step 2 (Policy Evaluation)** and repeat.\n"
      ],
      "metadata": {
        "id": "ILJMB4vgw6a2"
      }
    },
    {
      "cell_type": "markdown",
      "source": [
        "### Setting up the environment!\n",
        "Here we install all necessary packages and import them."
      ],
      "metadata": {
        "id": "18jCPOcXxkQf"
      }
    },
    {
      "cell_type": "code",
      "execution_count": null,
      "metadata": {
        "colab": {
          "base_uri": "https://localhost:8080/"
        },
        "id": "s6amAS8g2I5X",
        "outputId": "d73af424-5655-4af6-fcc4-a9a992c66d5d"
      },
      "outputs": [
        {
          "name": "stdout",
          "output_type": "stream",
          "text": [
            "Requirement already satisfied: gym in /usr/local/lib/python3.10/dist-packages (0.25.2)\n",
            "Requirement already satisfied: numpy>=1.18.0 in /usr/local/lib/python3.10/dist-packages (from gym) (1.26.4)\n",
            "Requirement already satisfied: cloudpickle>=1.2.0 in /usr/local/lib/python3.10/dist-packages (from gym) (3.1.0)\n",
            "Requirement already satisfied: gym-notices>=0.0.4 in /usr/local/lib/python3.10/dist-packages (from gym) (0.0.8)\n",
            "Requirement already satisfied: gym in /usr/local/lib/python3.10/dist-packages (0.25.2)\n",
            "Collecting gym\n",
            "  Downloading gym-0.26.2.tar.gz (721 kB)\n",
            "\u001b[2K     \u001b[90m━━━━━━━━━━━━━━━━━━━━━━━━━━━━━━━━━━━━━━━━\u001b[0m \u001b[32m721.7/721.7 kB\u001b[0m \u001b[31m10.3 MB/s\u001b[0m eta \u001b[36m0:00:00\u001b[0m\n",
            "\u001b[?25h  Installing build dependencies ... \u001b[?25l\u001b[?25hdone\n",
            "  Getting requirements to build wheel ... \u001b[?25l\u001b[?25hdone\n",
            "  Preparing metadata (pyproject.toml) ... \u001b[?25l\u001b[?25hdone\n",
            "Requirement already satisfied: numpy>=1.18.0 in /usr/local/lib/python3.10/dist-packages (from gym) (1.26.4)\n",
            "Requirement already satisfied: cloudpickle>=1.2.0 in /usr/local/lib/python3.10/dist-packages (from gym) (3.1.0)\n",
            "Requirement already satisfied: gym-notices>=0.0.4 in /usr/local/lib/python3.10/dist-packages (from gym) (0.0.8)\n",
            "Building wheels for collected packages: gym\n",
            "  Building wheel for gym (pyproject.toml) ... \u001b[?25l\u001b[?25hdone\n",
            "  Created wheel for gym: filename=gym-0.26.2-py3-none-any.whl size=827618 sha256=b0e3810c5bc81d3abe8e3fccec3ba6e6165bece19fbcee29c6224e66b36d59bb\n",
            "  Stored in directory: /root/.cache/pip/wheels/b9/22/6d/3e7b32d98451b4cd9d12417052affbeeeea012955d437da1da\n",
            "Successfully built gym\n",
            "Installing collected packages: gym\n",
            "  Attempting uninstall: gym\n",
            "    Found existing installation: gym 0.25.2\n",
            "    Uninstalling gym-0.25.2:\n",
            "      Successfully uninstalled gym-0.25.2\n",
            "\u001b[31mERROR: pip's dependency resolver does not currently take into account all the packages that are installed. This behaviour is the source of the following dependency conflicts.\n",
            "dopamine-rl 4.0.9 requires gym<=0.25.2, but you have gym 0.26.2 which is incompatible.\u001b[0m\u001b[31m\n",
            "\u001b[0mSuccessfully installed gym-0.26.2\n",
            "Name: gym\n",
            "Version: 0.26.2\n",
            "Summary: Gym: A universal API for reinforcement learning environments\n",
            "Home-page: https://www.gymlibrary.dev/\n",
            "Author: Gym Community\n",
            "Author-email: jkterry@umd.edu\n",
            "License: MIT\n",
            "Location: /usr/local/lib/python3.10/dist-packages\n",
            "Requires: cloudpickle, gym-notices, numpy\n",
            "Required-by: dopamine_rl\n"
          ]
        }
      ],
      "source": [
        "# -*- coding: utf-8 -*-\n",
        "\"\"\"COMM055-fall-24-Week9-RL1.ipynb\"\"\"\n",
        "\n",
        "# Install necessary packages\n",
        "!pip install gym\n",
        "!pip install gym --upgrade\n",
        "\n",
        "import gym\n",
        "import numpy as np\n",
        "from typing import Tuple\n",
        "import matplotlib.pyplot as plt\n",
        "from IPython import display\n",
        "\n",
        "# Test if gym is installed\n",
        "!pip show gym"
      ]
    },
    {
      "cell_type": "markdown",
      "metadata": {
        "id": "1eWxTFWwOQfm"
      },
      "source": [
        "# Code Explanation step-by-step\n",
        "\n",
        "### 1. `policy_evaluation`\n",
        "\n",
        "This function evaluates a given policy by computing the value function `V(s)` for all states `s` in the environment.\n",
        "\n",
        "#### Arguments:\n",
        "- `env`: The Gym environment object.\n",
        "- `policy`: The current policy (deterministic or stochastic) to evaluate.\n",
        "- `gamma`: The discount factor for future rewards (default: 0.99).\n",
        "- `theta`: The convergence threshold to stop iteration (default: 1e-8).\n",
        "- `max_iters`: Maximum number of iterations to avoid infinite loops.\n",
        "\n",
        "#### Steps:\n",
        "1. Initialize the value function `V` as a zero array for all states.\n",
        "2. Iteratively update `V(s)` using the Bellman expectation equation:\n",
        "   $$\n",
        "   V(s) = \\sum_{s',r} p(s',r|s,a) \\cdot (r + \\gamma \\cdot V(s'))\n",
        "   $$\n",
        "   where `a` is the action taken by the policy at state `s`.\n",
        "3. Stop when the largest change in value (`delta`) is less than `theta`.\n",
        "\n",
        "#### Output:\n",
        "- Returns the value function `V` for the given policy.\n"
      ]
    },
    {
      "cell_type": "code",
      "execution_count": null,
      "metadata": {
        "id": "zXMiGOJvOT8-"
      },
      "outputs": [],
      "source": [
        "# Function to evaluate a policy\n",
        "def policy_evaluation(env: gym.Env, policy: np.ndarray, gamma: float = 0.99, theta: float = 1e-8, max_iters: int = 1000) -> np.ndarray:\n",
        "    \"\"\"\n",
        "    Evaluates a policy and computes its value function.\n",
        "\n",
        "    Args:\n",
        "        env (gym.Env): The Gym environment.\n",
        "        policy (np.ndarray): The policy to evaluate.\n",
        "        gamma (float): Discount factor.\n",
        "        theta (float): Convergence threshold.\n",
        "        max_iters (int): Maximum number of iterations for policy evaluation.\n",
        "\n",
        "    Returns:\n",
        "        np.ndarray: The value function for the policy.\n",
        "    \"\"\"\n",
        "    num_states = env.observation_space.n\n",
        "    V = np.zeros(num_states)\n",
        "\n",
        "    for i in range(max_iters):\n",
        "        delta = 0\n",
        "        for s in range(num_states):\n",
        "            a = policy[s]\n",
        "            V_s = sum(\n",
        "                [p * (r + gamma * V[s_]) for p, s_, r, _ in env.P[s][a]]\n",
        "            )\n",
        "            delta = max(delta, abs(V[s] - V_s))\n",
        "            V[s] = V_s\n",
        "        if delta < theta:\n",
        "            break\n",
        "\n",
        "    return V"
      ]
    },
    {
      "cell_type": "code",
      "execution_count": null,
      "metadata": {
        "id": "g5TE253CGeuS"
      },
      "outputs": [],
      "source": [
        "# Function to test a given policy\n",
        "def test_policy(env: gym.Env, policy: np.ndarray) -> None:\n",
        "    \"\"\"\n",
        "    Tests a tabular policy on a given toy text environment.\n",
        "\n",
        "    Args:\n",
        "        env (gym.Env): The Gym environment\n",
        "        policy (np.ndarray): The tabular policy as a NumPy array.\n",
        "    \"\"\"\n",
        "    num_states = env.observation_space.n\n",
        "    num_actions = env.action_space.n\n",
        "    stochastic_policy = policy.shape == (num_states, num_actions)\n",
        "\n",
        "    steps = 0\n",
        "    done = False\n",
        "    state = env.reset()[0]  # Reset the environment and get the initial state\n",
        "\n",
        "    while not done:\n",
        "        if stochastic_policy:\n",
        "            action = np.random.choice(num_actions, p=policy[state])  # Action based on probabilities\n",
        "            print(f\"Selecting action: {action} with probability: {policy[state][action]}\")\n",
        "        else:\n",
        "            action = int(policy[state])  # Deterministic action\n",
        "            print(f\"Selecting action: {action}\")\n",
        "\n",
        "        # Step in the environment\n",
        "        next_state, reward, terminated, truncated, _ = env.step(action)\n",
        "        state = next_state\n",
        "        done = terminated or truncated\n",
        "        steps += 1\n",
        "\n",
        "    print(f\"{'Success' if reward == 1 else 'Failed'} in {steps} steps\")"
      ]
    },
    {
      "cell_type": "markdown",
      "metadata": {
        "id": "rzH1rLWeOZV_"
      },
      "source": [
        "### 2. `policy_improvement`\n",
        "\n",
        "This function improves a given policy using the computed value function `V`.\n",
        "\n",
        "#### Arguments:\n",
        "- `env`: The Gym environment object.\n",
        "- `V`: The value function for the current policy.\n",
        "- `gamma`: The discount factor for future rewards (default: 0.99).\n",
        "\n",
        "#### Steps:\n",
        "1. Initialize a new policy with zeros for all states.\n",
        "2. For each state `s`, compute the action-value function $Q(s, a)$ for all actions:\n",
        "   $$\n",
        "   Q(s, a) = \\sum_{s',r} p(s',r|s,a) \\cdot (r + \\gamma \\cdot V(s'))\n",
        "   $$\n",
        "3. Select the action `a` that maximizes `Q(s, a)` and update the policy.\n",
        "4. Check if the policy is stable (i.e., no changes were made).\n",
        "\n",
        "#### Output:\n",
        "- Returns the improved policy and a boolean indicating if the policy is stable."
      ]
    },
    {
      "cell_type": "markdown",
      "metadata": {
        "id": "3a6b1Yta722b"
      },
      "source": [
        "<h1 style=\"color:red\">Exercise 1</h1>\n",
        "based on the above algorithm complete the code below."
      ]
    },
    {
      "cell_type": "code",
      "execution_count": null,
      "metadata": {
        "id": "I2tknDmFH8sY"
      },
      "outputs": [],
      "source": [
        "def policy_improvement(env: gym.Env, V: np.ndarray, gamma: float = 0.99) -> Tuple[np.ndarray, bool]:\n",
        "    \"\"\"\n",
        "    Improves the policy based on the given value function.\n",
        "\n",
        "    Args:\n",
        "        env (gym.Env): The Gym environment.\n",
        "        V (np.ndarray): The value function.\n",
        "        gamma (float): Discount factor.\n",
        "\n",
        "    Returns:\n",
        "        Tuple[np.ndarray, bool]: The improved policy and whether it is stable.\n",
        "    \"\"\"\n",
        "    num_states = env.observation_space.n\n",
        "    num_actions = env.action_space.n\n",
        "\n",
        "    #write your code here"
      ]
    },
    {
      "cell_type": "markdown",
      "metadata": {
        "id": "jbL0BI42OfUE"
      },
      "source": [
        "### 3. `policy_iteration`\n",
        "\n",
        "This function performs **Policy Iteration** to find the optimal policy and value function.\n",
        "\n",
        "#### Arguments:\n",
        "- `env`: The Gym environment object.\n",
        "- `stochastic_policy`: Whether the policy is stochastic (default: `False`).\n",
        "\n",
        "#### Steps:\n",
        "1. Initialize a random policy.\n",
        "2. Alternate between:\n",
        "   - **Policy Evaluation**: Compute the value function for the current policy using `policy_evaluation`.\n",
        "   - **Policy Improvement**: Improve the policy using `policy_improvement`.\n",
        "3. Stop when the policy stabilizes.\n",
        "\n",
        "#### Output:\n",
        "- Returns the optimal policy and value function.\n",
        "\n",
        "\n",
        "Policy Iteration consists of two main steps: **Policy Evaluation** and **Policy Improvement**. These steps are repeated iteratively until the policy converges to the optimal policy.\n",
        "\n",
        "---\n",
        "\n",
        "### 1. Policy Evaluation\n",
        "\n",
        "The goal of policy evaluation is to compute the value function $ V_\\pi(s) $ for a given policy $ \\pi $. This is done by solving the Bellman equation:\n",
        "\n",
        "$$\n",
        "V_\\pi(s) = \\sum_{a} \\pi(a|s) \\sum_{s', r} P(s', r | s, a) \\left[ r + \\gamma V_\\pi(s') \\right]\n",
        "$$\n",
        "\n",
        "Where:\n",
        "- $ s $: Current state\n",
        "- $ a $: Action\n",
        "- $ s' $: Next state\n",
        "- $ r $: Reward\n",
        "- $ P(s', r | s, a) $: Probability of transitioning to \\( s' \\) with reward \\( r \\) after taking action $ a $ in state \\( s \\)\n",
        "- $ \\gamma $: Discount factor ($ 0 \\leq \\gamma \\leq 1 $)\n",
        "- $ \\pi(a|s) $: Policy probability of taking action \\( a \\) in state \\( s \\)\n",
        "\n",
        "---\n",
        "\n",
        "### 2. Policy Improvement\n",
        "\n",
        "The goal of policy improvement is to derive a better policy \\( \\pi' \\) by acting greedily with respect to the value function \\( V_\\pi(s) \\). The updated policy is:\n",
        "\n",
        "$$\n",
        "\\pi'(s) = \\arg\\max_a \\sum_{s', r} P(s', r | s, a) \\left[ r + \\gamma V_\\pi(s') \\right]\n",
        "$$\n",
        "\n",
        "Where:\n",
        "- The action $ a $ that maximizes the expected reward is selected for each state $s$.\n",
        "\n",
        "---\n",
        "\n",
        "### Policy Iteration Algorithm\n",
        "\n",
        "1. **Initialization**:\n",
        "   - Initialize a random policy $ \\pi_0 $.\n",
        "   - Set $ k = 0 $.\n",
        "\n",
        "2. **Iterative Steps**:\n",
        "   - **Policy Evaluation**: Compute $ V_{\\pi_k}(s) $ for the current policy $ \\pi_k $.\n",
        "   - **Policy Improvement**: Update the policy $ \\pi_{k+1} $ using the greedy policy derived from $ V_{\\pi_k}(s) $:\n",
        "     \n",
        "     $$\\pi_{k+1}(s) = \\arg\\max_a \\sum_{s', r} P(s', r | s, a) \\left[ r + \\gamma V_{\\pi_k}(s') \\right]$$\n",
        "\n",
        "3. **Convergence**:\n",
        "   - Repeat the evaluation and improvement steps until the policy $ \\pi_k $ is stable (i.e., no longer changes between iterations).\n"
      ]
    },
    {
      "cell_type": "markdown",
      "metadata": {
        "id": "csGI5xhq722b"
      },
      "source": [
        "<h1 style=\"color:red\">Exercise 2</h1>\n",
        "based on the above algorithm complete the code below."
      ]
    },
    {
      "cell_type": "code",
      "execution_count": null,
      "metadata": {
        "id": "Sr5FSFyOHbKR"
      },
      "outputs": [],
      "source": [
        "def policy_iteration(env: gym.Env, gamma: float = 0.99, max_iters: int = 1000) -> Tuple[np.ndarray, np.ndarray]:\n",
        "    \"\"\"\n",
        "    Performs Policy Iteration.\n",
        "\n",
        "    Args:\n",
        "        env (gym.Env): The Gym environment.\n",
        "        gamma (float): Discount factor.\n",
        "        max_iters (int): Maximum number of iterations for policy iteration.\n",
        "\n",
        "    Returns:\n",
        "        Tuple[np.ndarray, np.ndarray]: Optimal policy and value function.\n",
        "    \"\"\"\n",
        "    num_states = env.observation_space.n\n",
        "    policy = np.zeros(num_states, dtype=np.int32)\n",
        "\n",
        "    #for i in range(max_iters):\n",
        "    #Write your code here\n"
      ]
    },
    {
      "cell_type": "markdown",
      "metadata": {
        "id": "_AGb1oDT722c"
      },
      "source": [
        "<h1 style=\"color:red\">Exercise 3</h1>\n",
        "Have a look at the loop and the </b>max_iter</b> from above code. Think why do we really need to run this loop as many times as needed for the policy to converge?"
      ]
    },
    {
      "cell_type": "markdown",
      "metadata": {
        "id": "UMuGpXe3722c"
      },
      "source": [
        "<i style=\"color:green\">Write your answer here</i>"
      ]
    },
    {
      "cell_type": "markdown",
      "metadata": {
        "id": "uekfqLixOkjC"
      },
      "source": [
        "### 4. `value_iteration`\n",
        "\n",
        "This function uses **Value Iteration** to compute the optimal policy and value function.\n",
        "\n",
        "#### Arguments:\n",
        "- `env`: The Gym environment object.\n",
        "- `gamma`: The discount factor for future rewards (default: 0.99).\n",
        "- `theta`: The convergence threshold to stop iteration (default: 1e-8).\n",
        "\n",
        "#### Steps:\n",
        "1. Initialize the value function `V` as a zero array for all states.\n",
        "2. Iteratively update `V(s)` using the Bellman optimality equation:\n",
        "   $V(s) = \\max_a \\sum_{s',r} p(s',r|s,a) \\cdot (r + \\gamma \\cdot V(s'))$\n",
        "3. Stop when the largest change in value (`delta`) is less than `theta`.\n",
        "4. Derive the optimal policy by selecting the action that maximizes `Q(s, a)` for each state.\n",
        "\n",
        "#### Output:\n",
        "- Returns the optimal policy and value function.\n",
        "\n",
        "\n",
        "### Value Iteration\n",
        "\n",
        "Value Iteration is an iterative algorithm used to compute the **optimal value function** $V^*(s)$ and derive the **optimal policy** $\\pi^*(s) $. It is based on the Bellman optimality equation.\n",
        "\n",
        "---\n",
        "\n",
        "### Bellman Optimality Equation for Value Iteration\n",
        "\n",
        "The Bellman optimality equation for the value function is:\n",
        "\n",
        "\n",
        "$$V^*(s) = \\max_a \\sum_{s', r} P(s', r | s, a) \\left[ r + \\gamma V^*(s') \\right]$$\n",
        "\n",
        "Where:\n",
        "- $ V^*(s) $: Optimal value function for state $s$\n",
        "- $ a $: Action\n",
        "- $ s' $: Next state\n",
        "- $ r $: Reward\n",
        "- $ P(s', r | s, a) $: Transition probability of moving to state $s'$ with reward $ r $ when taking action $ a $ in state $ s $\n",
        "- $ \\gamma $: Discount factor ($ 0 \\leq \\gamma \\leq 1 $)\n",
        "\n",
        "---\n",
        "\n",
        "### Value Iteration Algorithm\n",
        "\n",
        "1. **Initialization**:\n",
        "   - Initialize $ V(s) = 0$ (or any arbitrary values) for all states $s$.\n",
        "\n",
        "2. **Iterative Update**:\n",
        "   - For each state $ s $, update the value function using the Bellman optimality equation:\n",
        "\n",
        "     $V(s) \\leftarrow \\max_a \\sum_{s', r} P(s', r | s, a) \\left[ r + \\gamma V(s') \\right]$\n",
        "   - Compute the maximum change (delta) across all states:\n",
        "     $\\delta = \\max_s \\left| V_{\\text{new}}(s) - V_{\\text{old}}(s) \\right|$\n",
        "\n",
        "3. **Convergence**:\n",
        "   - Repeat the updates until $ \\delta < \\theta $, where $ \\theta $ is a small threshold for convergence.\n",
        "\n",
        "4. **Derive the Optimal Policy**:\n",
        "   - After $ V^*(s) $ converges, derive the optimal policy $\\pi^*(s)$ by selecting the action that maximizes the expected reward:\n",
        "\n",
        "     $\\pi^*(s) = \\arg\\max_a \\sum_{s', r} P(s', r | s, a) \\left[ r + \\gamma V^*(s') \\right]$\n",
        "\n",
        "---\n",
        "\n",
        "#### Key Differences from Policy Iteration\n",
        "\n",
        "- **Value Iteration** combines the policy evaluation and improvement steps into a single process by directly computing the optimal value function.\n",
        "- **Policy Iteration** separates policy evaluation and policy improvement steps.\n"
      ]
    },
    {
      "cell_type": "code",
      "execution_count": null,
      "metadata": {
        "id": "KLEVwosUGmVq"
      },
      "outputs": [],
      "source": [
        "def value_iteration(env: gym.Env, gamma: float = 0.99, theta: float = 1e-8) -> Tuple[np.ndarray, np.ndarray]:\n",
        "    \"\"\"\n",
        "    Performs Value Iteration.\n",
        "\n",
        "    Args:\n",
        "        env (gym.Env): The Gym environment.\n",
        "        gamma (float): Discount factor.\n",
        "        theta (float): Convergence threshold.\n",
        "\n",
        "    Returns:\n",
        "        Tuple[np.ndarray, np.ndarray]: Optimal policy and value function.\n",
        "    \"\"\"\n",
        "    num_states = env.observation_space.n\n",
        "    num_actions = env.action_space.n\n",
        "    V = np.zeros(num_states)\n",
        "\n",
        "    while True:\n",
        "        delta = 0\n",
        "        for s in range(num_states):\n",
        "            Q = [\n",
        "                sum([p * (r + gamma * V[s_]) for p, s_, r, _ in env.P[s][a]])\n",
        "                for a in range(num_actions)\n",
        "            ]\n",
        "            max_q = max(Q)\n",
        "            delta = max(delta, abs(V[s] - max_q))\n",
        "            V[s] = max_q\n",
        "        if delta < theta:\n",
        "            break\n",
        "    policy = np.zeros(num_states, dtype=np.int32)\n",
        "    for s in range(num_states):\n",
        "        Q = [\n",
        "            sum([p * (r + gamma * V[s_]) for p, s_, r, _ in env.P[s][a]])\n",
        "            for a in range(num_actions)\n",
        "        ]\n",
        "        policy[s] = np.argmax(Q)\n",
        "\n",
        "    return policy, V"
      ]
    },
    {
      "cell_type": "markdown",
      "metadata": {
        "id": "gsn_e7DtOo-E"
      },
      "source": [
        "### 5. `visualize_policy_execution`\n",
        "\n",
        "This function visualizes the execution of the optimal policy in the environment.\n",
        "\n",
        "#### Arguments:\n",
        "- `env`: The Gym environment object.\n",
        "- `policy`: The optimal policy to execute.\n",
        "\n",
        "#### Steps:\n",
        "1. Reset the environment and render its initial state.\n",
        "2. Execute actions from the policy until the agent reaches a terminal state.\n",
        "3. Render each step and display it using Matplotlib.\n",
        "\n",
        "#### Output:\n",
        "- A visualization of the policy execution."
      ]
    },
    {
      "cell_type": "code",
      "execution_count": null,
      "metadata": {
        "id": "yRtqFVGAGs7Z"
      },
      "outputs": [],
      "source": [
        "# Function to visualize policy execution\n",
        "def visualize_policy_execution(env: gym.Env, policy: np.ndarray) -> None:\n",
        "    \"\"\"\n",
        "    Visualizes the execution of the optimal policy in the environment.\n",
        "\n",
        "    Args:\n",
        "        env (gym.Env): The Gym environment.\n",
        "        policy (np.ndarray): The optimal policy.\n",
        "    \"\"\"\n",
        "    state = env.reset()[0]\n",
        "    done = False\n",
        "\n",
        "    while not done:\n",
        "        # Render the environment and capture the RGB array\n",
        "        img = env.render()\n",
        "        plt.imshow(img)\n",
        "        plt.title(f\"State: {state}, Action: {policy[state]}\")\n",
        "        plt.axis(\"off\")\n",
        "        display.clear_output(wait=True)\n",
        "        display.display(plt.gcf())\n",
        "\n",
        "        # Take the action based on the policy\n",
        "        action = int(policy[state])\n",
        "        next_state, reward, terminated, truncated, _ = env.step(action)\n",
        "        state = next_state\n",
        "        done = terminated or truncated\n",
        "\n",
        "    plt.close()\n",
        "    print(f\"{'Success!' if reward == 1 else 'Failed!'}\")"
      ]
    },
    {
      "cell_type": "markdown",
      "metadata": {
        "id": "g9QhwD57OGX6"
      },
      "source": [
        "### Main Function (`if __name__ == \"__main__\":`)\n",
        "\n",
        "1. **Environment Initialization**:\n",
        "   - Initializes the `FrozenLake-v1` environment with `render_mode=\"rgb_array\"`.\n",
        "\n",
        "2. **Value or Policy Iteration**:\n",
        "   - Executes either **Policy Iteration** or **Value Iteration** based on the `PolicyIteration` flag.\n",
        "   - Prints the optimal policy and value function.\n",
        "\n",
        "3. **Testing and Visualization**:\n",
        "   - Tests the computed policy using `test_policy`.\n",
        "   - Visualizes the policy execution using `visualize_policy_execution`.\n",
        "\n",
        "4. **Error Handling and Cleanup**:\n",
        "   - Catches and prints any errors.\n",
        "   - Ensures the environment is closed properly to release resources."
      ]
    },
    {
      "cell_type": "code",
      "execution_count": null,
      "metadata": {
        "colab": {
          "base_uri": "https://localhost:8080/"
        },
        "id": "XoKAonq2F6d-",
        "outputId": "be602c36-58f7-460e-ede6-90d63e64140a"
      },
      "outputs": [
        {
          "name": "stdout",
          "output_type": "stream",
          "text": [
            "Running Policy Iteration...\n",
            "Optimal Policy: [0 3 3 3 0 0 0 0 3 1 0 0 0 2 1 0]\n",
            "Optimal Value Function: [0.54202581 0.49880303 0.4706955  0.4568515  0.55845085 0.\n",
            " 0.35834799 0.         0.59179866 0.64307976 0.6152075  0.\n",
            " 0.         0.7417204  0.86283741 0.        ]\n",
            "\n",
            "Testing the computed policy...\n",
            "Selecting action: 0\n",
            "Selecting action: 0\n",
            "Selecting action: 0\n",
            "Selecting action: 0\n",
            "Selecting action: 0\n",
            "Selecting action: 0\n",
            "Selecting action: 0\n",
            "Selecting action: 0\n",
            "Selecting action: 0\n",
            "Selecting action: 0\n",
            "Selecting action: 0\n",
            "Selecting action: 3\n",
            "Selecting action: 3\n",
            "Selecting action: 0\n",
            "Selecting action: 0\n",
            "Selecting action: 3\n",
            "Selecting action: 0\n",
            "Selecting action: 3\n",
            "Selecting action: 3\n",
            "Selecting action: 0\n",
            "Selecting action: 0\n",
            "Selecting action: 0\n",
            "Selecting action: 3\n",
            "Selecting action: 0\n",
            "Selecting action: 0\n",
            "Selecting action: 0\n",
            "Selecting action: 0\n",
            "Selecting action: 0\n",
            "Selecting action: 0\n",
            "Selecting action: 0\n",
            "Selecting action: 0\n",
            "Selecting action: 0\n",
            "Selecting action: 0\n",
            "Selecting action: 0\n",
            "Selecting action: 0\n",
            "Selecting action: 0\n",
            "Selecting action: 3\n",
            "Selecting action: 1\n",
            "Selecting action: 3\n",
            "Selecting action: 1\n",
            "Selecting action: 2\n",
            "Selecting action: 1\n",
            "Selecting action: 3\n",
            "Selecting action: 1\n",
            "Selecting action: 0\n",
            "Selecting action: 1\n",
            "Selecting action: 0\n",
            "Selecting action: 1\n",
            "Selecting action: 3\n",
            "Selecting action: 3\n",
            "Selecting action: 1\n",
            "Selecting action: 3\n",
            "Selecting action: 3\n",
            "Selecting action: 1\n",
            "Selecting action: 2\n",
            "Selecting action: 2\n",
            "Selecting action: 1\n",
            "Selecting action: 2\n",
            "Selecting action: 2\n",
            "Selecting action: 1\n",
            "Selecting action: 3\n",
            "Selecting action: 3\n",
            "Selecting action: 1\n",
            "Selecting action: 3\n",
            "Selecting action: 0\n",
            "Selecting action: 0\n",
            "Selecting action: 0\n",
            "Selecting action: 0\n",
            "Selecting action: 0\n",
            "Selecting action: 3\n",
            "Selecting action: 3\n",
            "Selecting action: 0\n",
            "Selecting action: 0\n",
            "Selecting action: 3\n",
            "Selecting action: 0\n",
            "Selecting action: 0\n",
            "Selecting action: 0\n",
            "Selecting action: 0\n",
            "Selecting action: 3\n",
            "Selecting action: 0\n",
            "Selecting action: 0\n",
            "Selecting action: 0\n",
            "Selecting action: 3\n",
            "Selecting action: 0\n",
            "Selecting action: 0\n",
            "Selecting action: 0\n",
            "Selecting action: 3\n",
            "Selecting action: 3\n",
            "Selecting action: 0\n",
            "Selecting action: 0\n",
            "Selecting action: 0\n",
            "Selecting action: 0\n",
            "Selecting action: 0\n",
            "Selecting action: 0\n",
            "Selecting action: 0\n",
            "Selecting action: 0\n",
            "Selecting action: 0\n",
            "Selecting action: 0\n",
            "Selecting action: 0\n",
            "Selecting action: 0\n",
            "Failed in 100 steps\n",
            "Environment closed.\n"
          ]
        },
        {
          "name": "stderr",
          "output_type": "stream",
          "text": [
            "/usr/local/lib/python3.10/dist-packages/gym/utils/passive_env_checker.py:233: DeprecationWarning: `np.bool8` is a deprecated alias for `np.bool_`.  (Deprecated NumPy 1.24)\n",
            "  if not isinstance(terminated, (bool, np.bool8)):\n"
          ]
        }
      ],
      "source": [
        "# Main function\n",
        "if __name__ == \"__main__\":\n",
        "    try:\n",
        "        # Initialize the environment\n",
        "        env = gym.make(\"FrozenLake-v1\", render_mode=\"rgb_array\")\n",
        "\n",
        "        PolicyIteration = True\n",
        "        if PolicyIteration == True:\n",
        "          # Perform Policy Iteration\n",
        "          print(\"Running Policy Iteration...\")\n",
        "          opt_policy, opt_value = policy_iteration(env)\n",
        "          print(\"Optimal Policy:\", opt_policy)\n",
        "          print(\"Optimal Value Function:\", opt_value)\n",
        "        else:\n",
        "          # Compute the optimal policy and value function\n",
        "          print(\"Running Value Iteration to compute the optimal policy...\")\n",
        "          opt_policy, opt_value = policy_iteration(env)\n",
        "          print(\"Optimal Policy:\", opt_policy)\n",
        "          print(\"Optimal Value Function:\", opt_value)\n",
        "\n",
        "\n",
        "        # Test the policy\n",
        "        print(\"\\nTesting the computed policy...\")\n",
        "        test_policy(env, opt_policy)\n",
        "\n",
        "    except Exception as e:\n",
        "        print(f\"An error occurred: {e}\")\n",
        "\n",
        "    finally:\n",
        "        # Close the environment to release resources\n",
        "        env.close()\n",
        "        print(\"Environment closed.\")\n"
      ]
    },
    {
      "cell_type": "code",
      "execution_count": null,
      "metadata": {
        "colab": {
          "base_uri": "https://localhost:8080/",
          "height": 446
        },
        "id": "5u78ELieG9M1",
        "outputId": "a381559a-a207-4cf4-f97e-f4f28a4954bd"
      },
      "outputs": [
        {
          "data": {
            "image/png": "[encoded data removed]",
            "text/plain": [
              "<Figure size 640x480 with 1 Axes>"
            ]
          },
          "metadata": {},
          "output_type": "display_data"
        },
        {
          "name": "stdout",
          "output_type": "stream",
          "text": [
            "Success!\n"
          ]
        }
      ],
      "source": [
        "# Visualize the policy execution\n",
        "print(\"\\nVisualizing the optimal policy execution...\")\n",
        "visualize_policy_execution(env, opt_policy)"
      ]
    },
    {
      "cell_type": "markdown",
      "metadata": {
        "id": "NJPcRe0x722d"
      },
      "source": [
        "<h1 style=\"color:red\">Exercise 4</h1>\n",
        "Do the actions of the agent in the FrozenLake environment result in deterministic transitions? How is this captured in what you have seen?"
      ]
    },
    {
      "cell_type": "code",
      "execution_count": null,
      "metadata": {
        "id": "mkWqEM0W722d"
      },
      "outputs": [],
      "source": [
        "#write your answer here"
      ]
    },
    {
      "cell_type": "markdown",
      "metadata": {
        "id": "s1ZsU-2J722d"
      },
      "source": [
        "<h1 style=\"color:red\">Exercise 5</h1>\n",
        "Repeat the experiment above and apply it with Taxi environment.<br>\n",
        "Note: Replace \"FrozenLake-v1\" with \"Taxi-v3\" in gym.make() method. <br>"
      ]
    },
    {
      "cell_type": "code",
      "execution_count": null,
      "metadata": {
        "id": "WjDGga-c722d"
      },
      "outputs": [],
      "source": [
        "#write your code here"
      ]
    },
    {
      "cell_type": "markdown",
      "metadata": {
        "id": "js1JCAXA722d"
      },
      "source": [
        "Make sure you understand what is the goal of the agent in both environments and what reward the agent is trying to maximise."
      ]
    }
  ],
  "metadata": {
    "colab": {
      "provenance": []
    },
    "kernelspec": {
      "display_name": "Python 3",
      "name": "python3"
    },
    "language_info": {
      "name": "python"
    }
  },
  "nbformat": 4,
  "nbformat_minor": 0
}